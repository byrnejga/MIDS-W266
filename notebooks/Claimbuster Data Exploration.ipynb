{
 "cells": [
  {
   "cell_type": "code",
   "execution_count": 1,
   "id": "opposite-navigator",
   "metadata": {},
   "outputs": [],
   "source": [
    "## Usual Imports\n",
    "import numpy as np\n",
    "import pandas as pd\n",
    "from nltk.tokenize import sent_tokenize, word_tokenize\n",
    "\n",
    "## Requires nltk.download('punkt') if not already in the environment."
   ]
  },
  {
   "cell_type": "code",
   "execution_count": 2,
   "id": "extreme-recorder",
   "metadata": {},
   "outputs": [],
   "source": [
    "df = pd.read_json(\"../data/3xNCS.json\")"
   ]
  },
  {
   "cell_type": "code",
   "execution_count": 3,
   "id": "third-fusion",
   "metadata": {},
   "outputs": [
    {
     "data": {
      "text/html": [
       "<div>\n",
       "<style scoped>\n",
       "    .dataframe tbody tr th:only-of-type {\n",
       "        vertical-align: middle;\n",
       "    }\n",
       "\n",
       "    .dataframe tbody tr th {\n",
       "        vertical-align: top;\n",
       "    }\n",
       "\n",
       "    .dataframe thead th {\n",
       "        text-align: right;\n",
       "    }\n",
       "</style>\n",
       "<table border=\"1\" class=\"dataframe\">\n",
       "  <thead>\n",
       "    <tr style=\"text-align: right;\">\n",
       "      <th></th>\n",
       "      <th>label</th>\n",
       "      <th>text</th>\n",
       "    </tr>\n",
       "    <tr>\n",
       "      <th>sentence_id</th>\n",
       "      <th></th>\n",
       "      <th></th>\n",
       "    </tr>\n",
       "  </thead>\n",
       "  <tbody>\n",
       "    <tr>\n",
       "      <th>8967</th>\n",
       "      <td>1</td>\n",
       "      <td>In other words, I have seen his program costed...</td>\n",
       "    </tr>\n",
       "    <tr>\n",
       "      <th>27385</th>\n",
       "      <td>1</td>\n",
       "      <td>Our Navy is old -- excuse me, our Navy is smal...</td>\n",
       "    </tr>\n",
       "    <tr>\n",
       "      <th>9818</th>\n",
       "      <td>1</td>\n",
       "      <td>The unemployment, the number of people who are...</td>\n",
       "    </tr>\n",
       "    <tr>\n",
       "      <th>16794</th>\n",
       "      <td>1</td>\n",
       "      <td>Mr. Ford uh - actually has fewer people now in...</td>\n",
       "    </tr>\n",
       "    <tr>\n",
       "      <th>17588</th>\n",
       "      <td>1</td>\n",
       "      <td>Today it is up to about $38,000 of earnings th...</td>\n",
       "    </tr>\n",
       "    <tr>\n",
       "      <th>...</th>\n",
       "      <td>...</td>\n",
       "      <td>...</td>\n",
       "    </tr>\n",
       "    <tr>\n",
       "      <th>6717</th>\n",
       "      <td>0</td>\n",
       "      <td>That's not what we want.</td>\n",
       "    </tr>\n",
       "    <tr>\n",
       "      <th>11815</th>\n",
       "      <td>0</td>\n",
       "      <td>Imagine what it -- what it is like for someone...</td>\n",
       "    </tr>\n",
       "    <tr>\n",
       "      <th>33711</th>\n",
       "      <td>0</td>\n",
       "      <td>The report was so bad.</td>\n",
       "    </tr>\n",
       "    <tr>\n",
       "      <th>437</th>\n",
       "      <td>0</td>\n",
       "      <td>Well, the Massachusetts furlough program was u...</td>\n",
       "    </tr>\n",
       "    <tr>\n",
       "      <th>19352</th>\n",
       "      <td>0</td>\n",
       "      <td>And the Perot voters that are looking for a ho...</td>\n",
       "    </tr>\n",
       "  </tbody>\n",
       "</table>\n",
       "<p>11056 rows × 2 columns</p>\n",
       "</div>"
      ],
      "text/plain": [
       "             label                                               text\n",
       "sentence_id                                                          \n",
       "8967             1  In other words, I have seen his program costed...\n",
       "27385            1  Our Navy is old -- excuse me, our Navy is smal...\n",
       "9818             1  The unemployment, the number of people who are...\n",
       "16794            1  Mr. Ford uh - actually has fewer people now in...\n",
       "17588            1  Today it is up to about $38,000 of earnings th...\n",
       "...            ...                                                ...\n",
       "6717             0                           That's not what we want.\n",
       "11815            0  Imagine what it -- what it is like for someone...\n",
       "33711            0                             The report was so bad.\n",
       "437              0  Well, the Massachusetts furlough program was u...\n",
       "19352            0  And the Perot voters that are looking for a ho...\n",
       "\n",
       "[11056 rows x 2 columns]"
      ]
     },
     "execution_count": 3,
     "metadata": {},
     "output_type": "execute_result"
    }
   ],
   "source": [
    "df.set_index('sentence_id')"
   ]
  },
  {
   "cell_type": "code",
   "execution_count": 4,
   "id": "friendly-medium",
   "metadata": {},
   "outputs": [
    {
     "name": "stdout",
     "output_type": "stream",
     "text": [
      "Dataset Statistics:\n",
      "-------------------\n",
      "\n",
      "Total Records: 11056\n",
      "=====================================================\n",
      "\n",
      "Counts by label\n",
      "---------------\n"
     ]
    },
    {
     "data": {
      "text/plain": [
       "<AxesSubplot:ylabel='Frequency'>"
      ]
     },
     "execution_count": 4,
     "metadata": {},
     "output_type": "execute_result"
    },
    {
     "data": {
      "image/png": "[encoded data removed]",
      "text/plain": [
       "<Figure size 432x288 with 1 Axes>"
      ]
     },
     "metadata": {
      "needs_background": "light"
     },
     "output_type": "display_data"
    }
   ],
   "source": [
    "### Statistics about the dataset\n",
    "\n",
    "print(f\"Dataset Statistics:\")\n",
    "print(f\"-------------------\")\n",
    "print(f\"\\nTotal Records: {len(df)}\")\n",
    "print(\"=====================================================\")\n",
    "print(f\"\\nCounts by label\")\n",
    "print(f\"---------------\")\n",
    "df[\"label\"].plot.hist(bins=2)\n"
   ]
  },
  {
   "cell_type": "code",
   "execution_count": 5,
   "id": "wicked-reward",
   "metadata": {},
   "outputs": [
    {
     "name": "stdout",
     "output_type": "stream",
     "text": [
      "Sentence Count: 11056 sentences\n",
      "Total Tokens: 229779 tokens\n",
      "Shortest Sentence: 5 tokens\n",
      "Longest Sentence: 173 tokens\n",
      "Average Sentence Length: 20.78 tokens\n",
      "Median Sentence Length: 17.0 tokens\n",
      "5th percentile Length: 7.0 tokens\n",
      "10th percentile Length: 8.0 tokens\n",
      "15th percentile Length: 9.0 tokens\n",
      "25th percentile Length: 11.0 tokens\n",
      "95th percentile Length: 49.0 tokens\n",
      "96th percentile Length: 52.0 tokens\n",
      "99th percentile Length: 69.0 tokens\n"
     ]
    },
    {
     "data": {
      "image/png": "[encoded data removed]",
      "text/plain": [
       "<Figure size 432x288 with 1 Axes>"
      ]
     },
     "metadata": {
      "needs_background": "light"
     },
     "output_type": "display_data"
    }
   ],
   "source": [
    "tokens = df[\"text\"].map(word_tokenize)\n",
    "lengths = tokens.map(len)\n",
    "\n",
    "lengths.plot.hist(bins=30)\n",
    "\n",
    "print(f\"Sentence Count: {len(lengths)} sentences\")\n",
    "print(f\"Total Tokens: {lengths.sum()} tokens\")\n",
    "print(f\"Shortest Sentence: {lengths.min()} tokens\")\n",
    "print(f\"Longest Sentence: {lengths.max()} tokens\")\n",
    "print(f\"Average Sentence Length: {lengths.mean():.2f} tokens\")\n",
    "print(f\"Median Sentence Length: {lengths.median()} tokens\")\n",
    "print(f\"5th percentile Length: {lengths.quantile(0.05)} tokens\")\n",
    "print(f\"10th percentile Length: {lengths.quantile(0.10)} tokens\")\n",
    "print(f\"15th percentile Length: {lengths.quantile(0.15)} tokens\")\n",
    "print(f\"25th percentile Length: {lengths.quantile(0.25)} tokens\")\n",
    "print(f\"95th percentile Length: {lengths.quantile(0.95)} tokens\")\n",
    "print(f\"96th percentile Length: {lengths.quantile(0.96)} tokens\")\n",
    "print(f\"99th percentile Length: {lengths.quantile(0.99)} tokens\")"
   ]
  },
  {
   "cell_type": "code",
   "execution_count": 7,
   "id": "animated-silence",
   "metadata": {},
   "outputs": [
    {
     "ename": "AttributeError",
     "evalue": "'Series' object has no attribute 'flatten'",
     "output_type": "error",
     "traceback": [
      "\u001b[0;31m---------------------------------------------------------------------------\u001b[0m",
      "\u001b[0;31mAttributeError\u001b[0m                            Traceback (most recent call last)",
      "\u001b[0;32m<ipython-input-7-f0c2bd27d5dc>\u001b[0m in \u001b[0;36m<module>\u001b[0;34m\u001b[0m\n\u001b[0;32m----> 1\u001b[0;31m \u001b[0mtokens\u001b[0m\u001b[0;34m.\u001b[0m\u001b[0mflatten\u001b[0m\u001b[0;34m(\u001b[0m\u001b[0;34m)\u001b[0m\u001b[0;34m\u001b[0m\u001b[0;34m\u001b[0m\u001b[0m\n\u001b[0m",
      "\u001b[0;32m~/anaconda3/envs/w266/lib/python3.8/site-packages/pandas/core/generic.py\u001b[0m in \u001b[0;36m__getattr__\u001b[0;34m(self, name)\u001b[0m\n\u001b[1;32m   5460\u001b[0m             \u001b[0;32mif\u001b[0m \u001b[0mself\u001b[0m\u001b[0;34m.\u001b[0m\u001b[0m_info_axis\u001b[0m\u001b[0;34m.\u001b[0m\u001b[0m_can_hold_identifiers_and_holds_name\u001b[0m\u001b[0;34m(\u001b[0m\u001b[0mname\u001b[0m\u001b[0;34m)\u001b[0m\u001b[0;34m:\u001b[0m\u001b[0;34m\u001b[0m\u001b[0;34m\u001b[0m\u001b[0m\n\u001b[1;32m   5461\u001b[0m                 \u001b[0;32mreturn\u001b[0m \u001b[0mself\u001b[0m\u001b[0;34m[\u001b[0m\u001b[0mname\u001b[0m\u001b[0;34m]\u001b[0m\u001b[0;34m\u001b[0m\u001b[0;34m\u001b[0m\u001b[0m\n\u001b[0;32m-> 5462\u001b[0;31m             \u001b[0;32mreturn\u001b[0m \u001b[0mobject\u001b[0m\u001b[0;34m.\u001b[0m\u001b[0m__getattribute__\u001b[0m\u001b[0;34m(\u001b[0m\u001b[0mself\u001b[0m\u001b[0;34m,\u001b[0m \u001b[0mname\u001b[0m\u001b[0;34m)\u001b[0m\u001b[0;34m\u001b[0m\u001b[0;34m\u001b[0m\u001b[0m\n\u001b[0m\u001b[1;32m   5463\u001b[0m \u001b[0;34m\u001b[0m\u001b[0m\n\u001b[1;32m   5464\u001b[0m     \u001b[0;32mdef\u001b[0m \u001b[0m__setattr__\u001b[0m\u001b[0;34m(\u001b[0m\u001b[0mself\u001b[0m\u001b[0;34m,\u001b[0m \u001b[0mname\u001b[0m\u001b[0;34m:\u001b[0m \u001b[0mstr\u001b[0m\u001b[0;34m,\u001b[0m \u001b[0mvalue\u001b[0m\u001b[0;34m)\u001b[0m \u001b[0;34m->\u001b[0m \u001b[0;32mNone\u001b[0m\u001b[0;34m:\u001b[0m\u001b[0;34m\u001b[0m\u001b[0;34m\u001b[0m\u001b[0m\n",
      "\u001b[0;31mAttributeError\u001b[0m: 'Series' object has no attribute 'flatten'"
     ]
    }
   ],
   "source": [
    "tokens.flatten()"
   ]
  },
  {
   "cell_type": "markdown",
   "id": "consecutive-induction",
   "metadata": {},
   "source": [
    "### Comments\n",
    "\n",
    "1. Will need to consider the filter sizes based on the overall lengths of most sentences, as a quarter of sentences are 11 words or fewer. \n",
    "2. Does that mean that I cannot have a filter any larger than 5 words in the convolutional layer?\n",
    "2. I could use padding if I wanted to go any larger than that, which may be needed for context.  I could do 8 or 9 as there are only 15% where I would need padding to run the filter."
   ]
  },
  {
   "cell_type": "markdown",
   "id": "ethical-observation",
   "metadata": {},
   "source": [
    "### Dataset Citations\n",
    "\n",
    "@inproceedings{arslan2020claimbuster,\n",
    "    title={{A Benchmark Dataset of Check-worthy Factual Claims}},\n",
    "    author={Arslan, Fatma and Hassan, Naeemul and Li, Chengkai and Tremayne, Mark },\n",
    "    booktitle={14th International AAAI Conference on Web and Social Media},\n",
    "    year={2020},\n",
    "    organization={AAAI}\n",
    "}\n",
    "\n",
    "@article{meng2020gradient,\n",
    "  title={Gradient-Based Adversarial Training on Transformer Networks for Detecting Check-Worthy Factual Claims},\n",
    "  author={Meng, Kevin and Jimenez, Damian and Arslan, Fatma and Devasier, Jacob Daniel and Obembe, Daniel and Li, Chengkai},\n",
    "  journal={arXiv preprint arXiv:2002.07725},\n",
    "  year={2020}\n",
    "}\n"
   ]
  }
 ],
 "metadata": {
  "kernelspec": {
   "display_name": "Python 3",
   "language": "python",
   "name": "python3"
  },
  "language_info": {
   "codemirror_mode": {
    "name": "ipython",
    "version": 3
   },
   "file_extension": ".py",
   "mimetype": "text/x-python",
   "name": "python",
   "nbconvert_exporter": "python",
   "pygments_lexer": "ipython3",
   "version": "3.8.2"
  }
 },
 "nbformat": 4,
 "nbformat_minor": 5
}
