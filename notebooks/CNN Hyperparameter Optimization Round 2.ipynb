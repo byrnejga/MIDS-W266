{
 "cells": [
  {
   "cell_type": "markdown",
   "id": "rational-going",
   "metadata": {},
   "source": [
    "## CNN sentence classifier - Round 2 of Hyperparameter tuning\n",
    "\n",
    "Following the analysis of round 1, this is a fine tuning of the hyperparameters.\n",
    "\n",
    "Note that data load, model creation and training have been broken out into jbyrne_utils.py to simplify the notebook."
   ]
  },
  {
   "cell_type": "code",
   "execution_count": 1,
   "id": "friendly-miami",
   "metadata": {},
   "outputs": [],
   "source": [
    "## Enable Tensorboard\n",
    "%load_ext tensorboard\n",
    "\n",
    "\n",
    "## Usual Imports\n",
    "import numpy as np\n",
    "\n",
    "## Add local module folder to the path and load modules\n",
    "\n",
    "import sys\n",
    "sys.path.insert(0, '../python')\n",
    "import debug\n",
    "from jbyrne_utils import load_data, tokenize_sentences, embed_matrix, run_model\n",
    "\n"
   ]
  },
  {
   "cell_type": "code",
   "execution_count": 2,
   "id": "macro-amendment",
   "metadata": {},
   "outputs": [],
   "source": [
    "### The following uses compatibility mode to allow use\n",
    "### of CUDA 11.2 with GPU support\n",
    "\n",
    "from tensorflow.compat.v1 import ConfigProto\n",
    "from tensorflow.compat.v1 import InteractiveSession\n",
    "\n",
    "config = ConfigProto()\n",
    "config.gpu_options.allow_growth = True\n",
    "session = InteractiveSession(config=config)"
   ]
  },
  {
   "cell_type": "code",
   "execution_count": 3,
   "id": "unknown-emission",
   "metadata": {},
   "outputs": [],
   "source": [
    "# maximum number of tokens to look at.\n",
    "max_len = 100\n"
   ]
  },
  {
   "cell_type": "markdown",
   "id": "complicated-documentation",
   "metadata": {},
   "source": [
    "### Read in the data set of sentences into numpy array."
   ]
  },
  {
   "cell_type": "code",
   "execution_count": 4,
   "id": "rough-porter",
   "metadata": {
    "scrolled": false
   },
   "outputs": [
    {
     "name": "stdout",
     "output_type": "stream",
     "text": [
      "Loaded 11056 data records.\n"
     ]
    }
   ],
   "source": [
    "d = load_data(\"../data/3xNCS.json\")\n"
   ]
  },
  {
   "cell_type": "markdown",
   "id": "ahead-child",
   "metadata": {},
   "source": [
    "## Split into train, validation and test sets"
   ]
  },
  {
   "cell_type": "code",
   "execution_count": 5,
   "id": "perfect-pulse",
   "metadata": {},
   "outputs": [
    {
     "name": "stdout",
     "output_type": "stream",
     "text": [
      "CPU times: user 6.56 ms, sys: 7.68 ms, total: 14.2 ms\n",
      "Wall time: 13.2 ms\n"
     ]
    }
   ],
   "source": [
    "%%time \n",
    "\n",
    "train_len = int(0.6 * len(d))\n",
    "val_len = int(0.2 * len(d))\n",
    "\n",
    "train, val, test = np.split(d, [train_len, train_len + val_len])\n",
    "\n",
    "# split into x and y sets for use in keras runs\n",
    "x_train, y_train = np.array( [ i[\"text\"] for i in train ] ), np.array( [ i[\"label\"] for i in train ] )\n",
    "x_val,   y_val   = np.array( [ i[\"text\"] for i in val ] ),   np.array( [ i[\"label\"] for i in val ]   )\n",
    "x_test,  y_test  = np.array( [ i[\"text\"] for i in test ] ),  np.array( [ i[\"label\"] for i in test ]  )\n"
   ]
  },
  {
   "cell_type": "markdown",
   "id": "nuclear-arrow",
   "metadata": {},
   "source": [
    "## Tokenize the training data set and build a vocabulary from it\n",
    "Want to do this to minimize the vocab to just what is in the training set for performance.\n",
    "\n",
    "using defaults:  strip all punctuation except apostrophies, set to lower case and split on spaces. No restriction on length of vocabulary."
   ]
  },
  {
   "cell_type": "code",
   "execution_count": 6,
   "id": "enclosed-tiger",
   "metadata": {},
   "outputs": [],
   "source": [
    "# Tokenize the training data set and build a vocabulary from it\n",
    "# Want to do this to minimize the vocab to just what is in\n",
    "# the training set for performance.\n",
    "\n",
    "x_train_ids, x_val_ids, x_test_ids, tokenizer = tokenize_sentences(x_train, x_val, x_test, max_len)\n"
   ]
  },
  {
   "cell_type": "code",
   "execution_count": 7,
   "id": "rotary-semester",
   "metadata": {},
   "outputs": [
    {
     "name": "stdout",
     "output_type": "stream",
     "text": [
      "proportion of checkable claims in training data  : 0.2521\n",
      "proportion of checkable claims in validation data: 0.2506\n",
      "proportion of checkable claims in test data      : 0.2432\n"
     ]
    }
   ],
   "source": [
    "# Check for % of statements that are checkable claims to \n",
    "# ensure we have some level of balance that will avoid\n",
    "# high accuracy for single value guessing.\n",
    "\n",
    "print(f\"proportion of checkable claims in training data  : {np.count_nonzero(y_train == 1)/len(y_train):.4f}\")\n",
    "print(f\"proportion of checkable claims in validation data: {np.count_nonzero(y_val == 1)/len(y_val):.4f}\")\n",
    "print(f\"proportion of checkable claims in test data      : {np.count_nonzero(y_test == 1)/len(y_test):.4f}\")"
   ]
  },
  {
   "cell_type": "code",
   "execution_count": 8,
   "id": "cardiac-thirty",
   "metadata": {
    "scrolled": true
   },
   "outputs": [
    {
     "name": "stdout",
     "output_type": "stream",
     "text": [
      "CPU times: user 25.6 s, sys: 135 ms, total: 25.8 s\n",
      "Wall time: 25.6 s\n"
     ]
    }
   ],
   "source": [
    "%%time\n",
    "\n",
    "\n",
    "# number of dimensions in the embeddings\n",
    "embed_dim = 50\n",
    "\n",
    "# Get the embedding matrix for the Embedding layer in Keras.\n",
    "vocab_list, embedding_matrix, vocab_size = embed_matrix(tokenizer, embed_dim)"
   ]
  },
  {
   "cell_type": "code",
   "execution_count": 9,
   "id": "honey-tractor",
   "metadata": {},
   "outputs": [
    {
     "data": {
      "text/plain": [
       "7018"
      ]
     },
     "execution_count": 9,
     "metadata": {},
     "output_type": "execute_result"
    }
   ],
   "source": [
    "len( embedding_matrix)"
   ]
  },
  {
   "cell_type": "code",
   "execution_count": 10,
   "id": "russian-evidence",
   "metadata": {},
   "outputs": [
    {
     "data": {
      "text/plain": [
       "50"
      ]
     },
     "execution_count": 10,
     "metadata": {},
     "output_type": "execute_result"
    }
   ],
   "source": [
    "embedding_matrix.shape[1]"
   ]
  },
  {
   "cell_type": "code",
   "execution_count": 11,
   "id": "enhanced-insulation",
   "metadata": {},
   "outputs": [
    {
     "name": "stdout",
     "output_type": "stream",
     "text": [
      "6633\n",
      "6633\n",
      "2211\n",
      "2211\n"
     ]
    }
   ],
   "source": [
    "print(len(x_train_ids))\n",
    "print(len(y_train))\n",
    "print(len(x_val_ids))\n",
    "print(len(y_val))"
   ]
  },
  {
   "cell_type": "code",
   "execution_count": 12,
   "id": "suburban-solution",
   "metadata": {
    "scrolled": true
   },
   "outputs": [],
   "source": [
    "# from jbyrne_utils import load_data, tokenize_sentences, embed_matrix, run_model\n",
    "\n",
    "# run_model(embedding_matrix, x_train_ids, y_train, x_val_ids, y_val)"
   ]
  },
  {
   "cell_type": "markdown",
   "id": "smoking-williams",
   "metadata": {},
   "source": [
    "## Output of the tests are deleted as the notebook will not load in Chrome"
   ]
  },
  {
   "cell_type": "code",
   "execution_count": 13,
   "id": "endless-spray",
   "metadata": {},
   "outputs": [
    {
     "name": "stdout",
     "output_type": "stream",
     "text": [
      "Adding Convolution: Kernel Size: 8, Filter Count: 16\n",
      "Adding Convolution: Kernel Size: 16, Filter Count: 16\n"
     ]
    },
    {
     "ename": "NameError",
     "evalue": "name 'curr_epochs' is not defined",
     "output_type": "error",
     "traceback": [
      "\u001b[0;31m---------------------------------------------------------------------------\u001b[0m",
      "\u001b[0;31mNameError\u001b[0m                                 Traceback (most recent call last)",
      "\u001b[0;32m<ipython-input-13-68affdfe15e2>\u001b[0m in \u001b[0;36m<module>\u001b[0;34m\u001b[0m\n\u001b[1;32m     32\u001b[0m         \u001b[0;32mfor\u001b[0m \u001b[0mdld\u001b[0m \u001b[0;32min\u001b[0m \u001b[0;34m[\u001b[0m \u001b[0;34m[\u001b[0m\u001b[0;36m8\u001b[0m\u001b[0;34m]\u001b[0m\u001b[0;34m,\u001b[0m \u001b[0;34m[\u001b[0m\u001b[0;36m16\u001b[0m\u001b[0;34m]\u001b[0m\u001b[0;34m,\u001b[0m \u001b[0;34m[\u001b[0m\u001b[0;36m32\u001b[0m\u001b[0;34m]\u001b[0m\u001b[0;34m,\u001b[0m \u001b[0;34m[\u001b[0m\u001b[0;36m32\u001b[0m\u001b[0;34m,\u001b[0m \u001b[0;36m16\u001b[0m\u001b[0;34m]\u001b[0m \u001b[0;34m]\u001b[0m\u001b[0;34m:\u001b[0m\u001b[0;34m\u001b[0m\u001b[0;34m\u001b[0m\u001b[0m\n\u001b[1;32m     33\u001b[0m \u001b[0;34m\u001b[0m\u001b[0m\n\u001b[0;32m---> 34\u001b[0;31m             hist = run_model(embedding_matrix,\n\u001b[0m\u001b[1;32m     35\u001b[0m                                   \u001b[0mx_train_ids\u001b[0m\u001b[0;34m,\u001b[0m\u001b[0;34m\u001b[0m\u001b[0;34m\u001b[0m\u001b[0m\n\u001b[1;32m     36\u001b[0m                                   \u001b[0my_train\u001b[0m\u001b[0;34m,\u001b[0m\u001b[0;34m\u001b[0m\u001b[0;34m\u001b[0m\u001b[0m\n",
      "\u001b[0;32m~/MIDS-W266/python/jbyrne_utils.py\u001b[0m in \u001b[0;36mrun_model\u001b[0;34m(embedding_matrix, x_train_ids, y_train, x_val_ids, y_val, max_len, epochs, batch_size, embed_dim, num_filters, kernel_sizes, dense_layer_dims, dropout_rate, train_embeds, opt, logfile, logdir)\u001b[0m\n\u001b[1;32m    234\u001b[0m                        \u001b[0my_val\u001b[0m \u001b[0;34m=\u001b[0m \u001b[0my_val\u001b[0m\u001b[0;34m,\u001b[0m\u001b[0;34m\u001b[0m\u001b[0;34m\u001b[0m\u001b[0m\n\u001b[1;32m    235\u001b[0m                        \u001b[0mlogdir\u001b[0m \u001b[0;34m=\u001b[0m \u001b[0mlogdir\u001b[0m\u001b[0;34m,\u001b[0m\u001b[0;34m\u001b[0m\u001b[0;34m\u001b[0m\u001b[0m\n\u001b[0;32m--> 236\u001b[0;31m                        \u001b[0mepochs\u001b[0m \u001b[0;34m=\u001b[0m \u001b[0mcurr_epochs\u001b[0m\u001b[0;34m,\u001b[0m\u001b[0;34m\u001b[0m\u001b[0;34m\u001b[0m\u001b[0m\n\u001b[0m\u001b[1;32m    237\u001b[0m                        \u001b[0mbatch_size\u001b[0m \u001b[0;34m=\u001b[0m \u001b[0mbatch_size\u001b[0m\u001b[0;34m,\u001b[0m\u001b[0;34m\u001b[0m\u001b[0;34m\u001b[0m\u001b[0m\n\u001b[1;32m    238\u001b[0m                        callback = tensorboard_callback)\n",
      "\u001b[0;31mNameError\u001b[0m: name 'curr_epochs' is not defined"
     ]
    }
   ],
   "source": [
    "# this is very quick, so we can use grid search on these models.\n",
    "\n",
    "run_logfile = \"runs2.log\"\n",
    "\n",
    "epochs = 20  # Not a variable, so we can determine the best epoch for the best model\n",
    "\n",
    "#Write the header line\n",
    "with open(run_logfile,'a') as f:\n",
    "   f.write(\"timestamp|max_len|epochs|batch_size|embed_dim|num_filters|kernel_sizes|dense_layer_dims|dropout_rate|\")\n",
    "   for metric in [ 'loss', 'accuracy', 'val_loss', 'val_accuracy']:\n",
    "       f.write(f\"{metric}|\")\n",
    "       for i in range(0,epochs):\n",
    "           f.write(f\"{metric}-{i}|\")\n",
    "   f.write(f\"END\\n\")        \n",
    "   f.close()\n",
    "\n",
    "    \n",
    "# run the models\n",
    "for k_sizes in [ [8,16], [16,32], [32,64], [4,8,12], [4,8,16], [8,12,16], [8,16,32], [4,8,16,32], [4,8,32,64] ]:\n",
    "\n",
    "    # Set filter counts according to the number of kernels in use.\n",
    "    if len(k_sizes) == 2:\n",
    "        filter_counts = [ [16,16], [16,32], [32,32] ]\n",
    "    if len(k_sizes) == 3:\n",
    "        filter_counts = [ [16,16,16], [32, 32, 32], [64, 64, 64], [8,16,32], [16,32,64] ]\n",
    "    if len(k_sizes) == 4:\n",
    "        filter_counts = [ [2,2,2,2], [4,4,4,4], [8,8,8,8], [32,32,32,32], [8,16,32,64] ]\n",
    "    \n",
    "    \n",
    "    for n_fil in filter_counts:\n",
    "        \n",
    "        for dld in [ [8], [16], [32], [32, 16] ]:\n",
    "\n",
    "            hist = run_model(embedding_matrix,\n",
    "                                  x_train_ids,\n",
    "                                  y_train,\n",
    "                                  x_val_ids,\n",
    "                                  y_val,\n",
    "                                  kernel_sizes     = k_sizes,\n",
    "                                  num_filters      = n_fil,\n",
    "                                  dense_layer_dims = dld,\n",
    "                                  epochs = epochs,\n",
    "                                  logfile = run_logfile)\n",
    "            print(\"\\n\\n\\n##########################################################################\\n\\n\\n\")\n",
    "\n"
   ]
  },
  {
   "cell_type": "markdown",
   "id": "portuguese-roman",
   "metadata": {},
   "source": [
    "\n",
    "\n",
    "\n",
    "\n",
    "### Dataset Citations\n",
    "\n",
    "@inproceedings{arslan2020claimbuster,\n",
    "    title={{A Benchmark Dataset of Check-worthy Factual Claims}},\n",
    "    author={Arslan, Fatma and Hassan, Naeemul and Li, Chengkai and Tremayne, Mark },\n",
    "    booktitle={14th International AAAI Conference on Web and Social Media},\n",
    "    year={2020},\n",
    "    organization={AAAI}\n",
    "}\n",
    "\n",
    "@article{meng2020gradient,\n",
    "  title={Gradient-Based Adversarial Training on Transformer Networks for Detecting Check-Worthy Factual Claims},\n",
    "  author={Meng, Kevin and Jimenez, Damian and Arslan, Fatma and Devasier, Jacob Daniel and Obembe, Daniel and Li, Chengkai},\n",
    "  journal={arXiv preprint arXiv:2002.07725},\n",
    "  year={2020}\n",
    "}\n",
    "\n",
    "Jeffrey Pennington, Richard Socher, and Christopher D. Manning. 2014. GloVe: Global Vectors for Word Representation. [pdf] [bib]\n",
    "\n",
    "\n",
    "### Useful resources in building this\n",
    "Using pre-trained word embeddings: https://keras.io/examples/nlp/pretrained_word_embeddings/"
   ]
  }
 ],
 "metadata": {
  "kernelspec": {
   "display_name": "Python 3",
   "language": "python",
   "name": "python3"
  },
  "language_info": {
   "codemirror_mode": {
    "name": "ipython",
    "version": 3
   },
   "file_extension": ".py",
   "mimetype": "text/x-python",
   "name": "python",
   "nbconvert_exporter": "python",
   "pygments_lexer": "ipython3",
   "version": "3.8.2"
  }
 },
 "nbformat": 4,
 "nbformat_minor": 5
}
